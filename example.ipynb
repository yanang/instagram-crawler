{
 "cells": [
  {
   "cell_type": "code",
   "execution_count": 1,
   "metadata": {},
   "outputs": [],
   "source": [
    "import sys\n",
    "# !{sys.executable} -m pip install --user pyquery \n",
    "# !{sys.executable} -m pip install --user --upgrade lxml\n"
   ]
  },
  {
   "cell_type": "markdown",
   "metadata": {},
   "source": [
    "After install pyquery and lxml, shutdown and restart the kernel."
   ]
  },
  {
   "cell_type": "code",
   "execution_count": 5,
   "metadata": {},
   "outputs": [],
   "source": [
    "from instagram_crawler import check_account"
   ]
  },
  {
   "cell_type": "code",
   "execution_count": 6,
   "metadata": {},
   "outputs": [
    {
     "name": "stdout",
     "output_type": "stream",
     "text": [
      "user_id:1566396037\n",
      "check finished n30201\n"
     ]
    },
    {
     "data": {
      "text/plain": [
       "True"
      ]
     },
     "execution_count": 6,
     "metadata": {},
     "output_type": "execute_result"
    }
   ],
   "source": [
    "# check the account exists or not\n",
    "# return True/False\n",
    "check_account('n30201')"
   ]
  },
  {
   "cell_type": "code",
   "execution_count": 7,
   "metadata": {},
   "outputs": [
    {
     "name": "stdout",
     "output_type": "stream",
     "text": [
      "Error html path: 404\n"
     ]
    },
    {
     "data": {
      "text/plain": [
       "False"
      ]
     },
     "execution_count": 7,
     "metadata": {},
     "output_type": "execute_result"
    }
   ],
   "source": [
    "check_account('aa1gfgre3')"
   ]
  },
  {
   "cell_type": "code",
   "execution_count": 5,
   "metadata": {},
   "outputs": [],
   "source": [
    "from instagram_crawler import crawler_account"
   ]
  },
  {
   "cell_type": "code",
   "execution_count": 7,
   "metadata": {
    "scrolled": true
   },
   "outputs": [
    {
     "name": "stdout",
     "output_type": "stream",
     "text": [
      "user_id：1566396037\n",
      "----download next page\n",
      "----download next page\n",
      "----download next page\n",
      "----download next page\n",
      "----download next page\n",
      "----download next page\n",
      "----download next page\n",
      "----download next page\n",
      "----download next page\n",
      "----download next page\n",
      "----download next page\n",
      "----download next page\n",
      "----download next page\n",
      "----download next page\n",
      "----download next page\n",
      "----download next page\n",
      "----download next page\n",
      "----download next page\n",
      "----download next page\n",
      "----download next page\n",
      "ignore download : c9bab3b06c6c242f9472240c23060937 D6A4\n",
      "ignore download : 8924e25385165c06be86c0064c723f8b D697\n",
      "ignore download : cccdf9f6ae5122550f329563d53b5a06 D6A3\n",
      "ignore download : 678086b08dca726a2b6e6419d1629f44 D6A4\n",
      "ignore download : 7392ee8760ba0217d6f7b102aa65ce9f D69B\n",
      "ignore download : 6802acc0a83d208a26459c8e434d34b8 D69B\n",
      "ignore download : a7f10ab80670c7e1e6f9faec779b0533 D69E\n",
      "ignore download : e55a503c0801c2ea1124fc16c7e45cd2 D6A4\n",
      "ignore download : 4fdefa9cbade82d96504584c4306aa82 D696\n",
      "ignore download : fa204b013249db3b4b05512643a1334a D695\n",
      "ignore download : 755f86863fc0c012403b8ac1c7d694fe D69C\n",
      "ignore download : 3f4cc037c8c408dd7064d55711b751d4 D6A4\n",
      "ignore download : 1d0e4b5fad00c931880328e8b046fd65 D695\n",
      "ignore download : bb6612397edbddd937bfd0b889ee54a4 D6A3\n",
      "ignore download : d31b4e3f5e54206ca562483dd053eae5 D694\n",
      "ignore download : 7d8daa6bba5593fa9dfe41ea69e6ffbd D694\n",
      "ignore download : 682e7f9a1f719e57b1d6eb48a2b765f1 D69E\n",
      "ignore download : 7c5620dff022d239aba7142e17918e68 D69C\n",
      "ignore download : c78c417f17760ed1f0bffd8d740bf254 D69C\n",
      "ignore download : f307f930a2cfc6c0d624282758d790c7 D69D\n",
      "ignore download : 05bcf48b3ed084b54c9bc64ddae07a6f D69C\n",
      "ignore download : 87e7f54b3509caafd7a514aa67e6230f D695\n",
      "ignore download : 936905872af17ba616729bd368c218e7 D694\n",
      "ignore download : 93c05e6a8dd69eba47837cfafd1c3662 D696\n",
      "ignore download : 803da08c6fdf3064af8f1ce9a0d4405c D695\n",
      "ignore download : 935e747aa0fa8ed824e7034fe612288f D69C\n",
      "ignore download : ef5801585b92a494073a1932b60d1d25 D695\n",
      "ignore download : dc3e93eb21e4aab3b4fecf4b8573ab12 D697\n",
      "ignore download : c81af4692d6b3a6218a401a348bb98c3 D69C\n",
      "ignore download : 0ad93ec14202c74f21e9f542a6b15f5a D694\n",
      "ignore download : 0979fb6a515dfefb67b976cf8f6fcee6 D6A5\n",
      "ignore download : 18074fc4b6b0f71149f06f0b86b78ea1 D69C\n",
      "ignore download : 2233f2389cff847c9b809d1c6811ccf3 D69E\n",
      "ignore download : 6255bba0356fd022bcbec4895babecd4 D6A4\n",
      "ignore download : 668323b427f5ad2c1d4d723e9db50182 D6A4\n",
      "ignore download : 70b155700d217e92c86b139dc77adefc D696\n",
      "ignore download : 8fe178149f5e0b7905fe26ac14b18f01 D696\n",
      "ignore download : daa257389c47f83f0227ee0a093edf25 D697\n",
      "ignore download : a50e4d810210abe53306559106bb761f D6A5\n",
      "ignore download : 6e5c19375f4594c85b67a950fbc51c50 D696\n",
      "ignore download : 11ba1336e518bfc162bf34344c6c7587 D6A3\n",
      "ignore download : 550405c16e0491246238e45bc1d5967f D69D\n",
      "ignore download : cdd179e2d64c3ffa31127be138b9d89b D694\n",
      "ignore download : a134e328d7559d386493360ed5d77953 D69C\n",
      "ignore download : 18ed0601bb31f2163bcf605fa85aae64 D694\n",
      "ignore download : 334975ffb229af2cf674a60b03518386 D6A4\n",
      "finsish download n30201\n"
     ]
    }
   ],
   "source": [
    "# 10 : general download numbers, including ignore download items\n",
    "crawler_account('n30201',700)"
   ]
  },
  {
   "cell_type": "code",
   "execution_count": null,
   "metadata": {},
   "outputs": [],
   "source": []
  },
  {
   "cell_type": "code",
   "execution_count": null,
   "metadata": {},
   "outputs": [],
   "source": []
  },
  {
   "cell_type": "code",
   "execution_count": null,
   "metadata": {},
   "outputs": [],
   "source": []
  },
  {
   "cell_type": "code",
   "execution_count": null,
   "metadata": {},
   "outputs": [],
   "source": []
  },
  {
   "cell_type": "code",
   "execution_count": null,
   "metadata": {},
   "outputs": [],
   "source": []
  }
 ],
 "metadata": {
  "kernelspec": {
   "display_name": "Python 3",
   "language": "python",
   "name": "python3"
  },
  "language_info": {
   "codemirror_mode": {
    "name": "ipython",
    "version": 3
   },
   "file_extension": ".py",
   "mimetype": "text/x-python",
   "name": "python",
   "nbconvert_exporter": "python",
   "pygments_lexer": "ipython3",
   "version": "3.6.8"
  }
 },
 "nbformat": 4,
 "nbformat_minor": 2
}
